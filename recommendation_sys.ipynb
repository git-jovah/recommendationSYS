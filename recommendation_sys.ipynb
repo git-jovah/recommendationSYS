{
 "cells": [
  {
   "cell_type": "markdown",
   "id": "f9b40a23-dc66-479a-88a5-9a9abf6f219b",
   "metadata": {},
   "source": [
    "## importing datasets"
   ]
  },
  {
   "cell_type": "code",
   "execution_count": null,
   "id": "35fa926e-1b80-49d2-a517-b45fd5d7e333",
   "metadata": {},
   "outputs": [],
   "source": []
  },
  {
   "cell_type": "code",
   "execution_count": 74,
   "id": "ffbb602e-29ed-49fb-9be4-f3eb5bd3f444",
   "metadata": {},
   "outputs": [
    {
     "data": {
      "text/html": [
       "<div>\n",
       "<style scoped>\n",
       "    .dataframe tbody tr th:only-of-type {\n",
       "        vertical-align: middle;\n",
       "    }\n",
       "\n",
       "    .dataframe tbody tr th {\n",
       "        vertical-align: top;\n",
       "    }\n",
       "\n",
       "    .dataframe thead th {\n",
       "        text-align: right;\n",
       "    }\n",
       "</style>\n",
       "<table border=\"1\" class=\"dataframe\">\n",
       "  <thead>\n",
       "    <tr style=\"text-align: right;\">\n",
       "      <th></th>\n",
       "      <th>movie_ID</th>\n",
       "      <th>release_date</th>\n",
       "      <th>character_name</th>\n",
       "      <th>actor_DOB</th>\n",
       "      <th>gender</th>\n",
       "      <th>height</th>\n",
       "      <th>actor_name</th>\n",
       "      <th>age</th>\n",
       "    </tr>\n",
       "  </thead>\n",
       "  <tbody>\n",
       "    <tr>\n",
       "      <th>0</th>\n",
       "      <td>975900</td>\n",
       "      <td>8/24/2001</td>\n",
       "      <td>Akooshay</td>\n",
       "      <td>8/26/1958</td>\n",
       "      <td>F</td>\n",
       "      <td>1.620</td>\n",
       "      <td>Wanda De Jesus</td>\n",
       "      <td>42.0</td>\n",
       "    </tr>\n",
       "    <tr>\n",
       "      <th>1</th>\n",
       "      <td>975900</td>\n",
       "      <td>8/24/2001</td>\n",
       "      <td>Lieutenant Melanie Ballard</td>\n",
       "      <td>8/15/1974</td>\n",
       "      <td>F</td>\n",
       "      <td>1.780</td>\n",
       "      <td>Natasha Henstridge</td>\n",
       "      <td>27.0</td>\n",
       "    </tr>\n",
       "    <tr>\n",
       "      <th>2</th>\n",
       "      <td>975900</td>\n",
       "      <td>8/24/2001</td>\n",
       "      <td>Desolation Williams</td>\n",
       "      <td>6/15/1969</td>\n",
       "      <td>M</td>\n",
       "      <td>1.727</td>\n",
       "      <td>Ice Cube</td>\n",
       "      <td>32.0</td>\n",
       "    </tr>\n",
       "    <tr>\n",
       "      <th>3</th>\n",
       "      <td>975900</td>\n",
       "      <td>8/24/2001</td>\n",
       "      <td>Sgt Jericho Butler</td>\n",
       "      <td>9/12/1967</td>\n",
       "      <td>M</td>\n",
       "      <td>1.750</td>\n",
       "      <td>Jason Statham</td>\n",
       "      <td>33.0</td>\n",
       "    </tr>\n",
       "    <tr>\n",
       "      <th>4</th>\n",
       "      <td>975900</td>\n",
       "      <td>8/24/2001</td>\n",
       "      <td>Bashira Kincaid</td>\n",
       "      <td>9/25/1977</td>\n",
       "      <td>F</td>\n",
       "      <td>1.650</td>\n",
       "      <td>Clea DuVall</td>\n",
       "      <td>23.0</td>\n",
       "    </tr>\n",
       "  </tbody>\n",
       "</table>\n",
       "</div>"
      ],
      "text/plain": [
       "   movie_ID release_date              character_name  actor_DOB gender  \\\n",
       "0    975900    8/24/2001                    Akooshay  8/26/1958      F   \n",
       "1    975900    8/24/2001  Lieutenant Melanie Ballard  8/15/1974      F   \n",
       "2    975900    8/24/2001         Desolation Williams  6/15/1969      M   \n",
       "3    975900    8/24/2001          Sgt Jericho Butler  9/12/1967      M   \n",
       "4    975900    8/24/2001             Bashira Kincaid  9/25/1977      F   \n",
       "\n",
       "   height          actor_name   age  \n",
       "0   1.620      Wanda De Jesus  42.0  \n",
       "1   1.780  Natasha Henstridge  27.0  \n",
       "2   1.727            Ice Cube  32.0  \n",
       "3   1.750       Jason Statham  33.0  \n",
       "4   1.650         Clea DuVall  23.0  "
      ]
     },
     "execution_count": 74,
     "metadata": {},
     "output_type": "execute_result"
    }
   ],
   "source": [
    "import pandas as pd\n",
    "df = pd.read_csv(r\"C:\\Users\\JAWAHAR JOVAH\\OneDrive\\Desktop\\moviesData.csv\",encoding=\"ISO 8859-1\")\n",
    "df2 = pd.read_csv(r\"C:\\Users\\JAWAHAR JOVAH\\OneDrive\\Desktop\\movie_data_2.csv\")\n",
    "df3 = pd.read_csv(r\"C:\\Users\\JAWAHAR JOVAH\\OneDrive\\Desktop\\movie_data_3.csv\",encoding = \"ISO 8859-1\")\n",
    "# df1 = pd.read_csv(r\"C:\\Users\\JAWAHAR JOVAH\\1_moviesdata.csv\",encoding=\"ASCII\")\n",
    "df2.head(5)"
   ]
  },
  {
   "cell_type": "code",
   "execution_count": 75,
   "id": "7174dac5-c9bd-420c-a10c-ff00f939e6a1",
   "metadata": {
    "scrolled": true
   },
   "outputs": [
    {
     "name": "stderr",
     "output_type": "stream",
     "text": [
      "C:\\Users\\JAWAHAR JOVAH\\AppData\\Local\\Temp\\ipykernel_13908\\1279985280.py:1: FutureWarning: A value is trying to be set on a copy of a DataFrame or Series through chained assignment using an inplace method.\n",
      "The behavior will change in pandas 3.0. This inplace method will never work because the intermediate object on which we are setting values always behaves as a copy.\n",
      "\n",
      "For example, when doing 'df[col].method(value, inplace=True)', try using 'df.method({col: value}, inplace=True)' or df[col] = df[col].method(value) instead, to perform the operation inplace on the original object.\n",
      "\n",
      "\n",
      "  df[\"avg_vote\"].fillna(0,inplace=True)\n",
      "C:\\Users\\JAWAHAR JOVAH\\AppData\\Local\\Temp\\ipykernel_13908\\1279985280.py:2: FutureWarning: A value is trying to be set on a copy of a DataFrame or Series through chained assignment using an inplace method.\n",
      "The behavior will change in pandas 3.0. This inplace method will never work because the intermediate object on which we are setting values always behaves as a copy.\n",
      "\n",
      "For example, when doing 'df[col].method(value, inplace=True)', try using 'df.method({col: value}, inplace=True)' or df[col] = df[col].method(value) instead, to perform the operation inplace on the original object.\n",
      "\n",
      "\n",
      "  df[\"description\"].fillna(\"NOTHING\",inplace=True)\n",
      "C:\\Users\\JAWAHAR JOVAH\\AppData\\Local\\Temp\\ipykernel_13908\\1279985280.py:3: FutureWarning: A value is trying to be set on a copy of a DataFrame or Series through chained assignment using an inplace method.\n",
      "The behavior will change in pandas 3.0. This inplace method will never work because the intermediate object on which we are setting values always behaves as a copy.\n",
      "\n",
      "For example, when doing 'df[col].method(value, inplace=True)', try using 'df.method({col: value}, inplace=True)' or df[col] = df[col].method(value) instead, to perform the operation inplace on the original object.\n",
      "\n",
      "\n",
      "  df[\"actors\"].fillna(\"NOTHING\",inplace=True)\n"
     ]
    },
    {
     "data": {
      "text/plain": [
       "imdb_title_id               0\n",
       "title                       0\n",
       "original_title              0\n",
       "year                        0\n",
       "date_published              0\n",
       "genre                       0\n",
       "duration                    0\n",
       "country                     0\n",
       "language                  208\n",
       "director                    1\n",
       "writer                     23\n",
       "production_company         15\n",
       "actors                      0\n",
       "description                 0\n",
       "avg_vote                    0\n",
       "votes                       1\n",
       "budget                   4880\n",
       "usa_gross_income         5759\n",
       "worlwide_gross_income    5781\n",
       "metascore                5842\n",
       "reviews_from_users         57\n",
       "reviews_from_critics      388\n",
       "dtype: int64"
      ]
     },
     "execution_count": 75,
     "metadata": {},
     "output_type": "execute_result"
    }
   ],
   "source": [
    "df[\"avg_vote\"].fillna(0,inplace=True)\n",
    "df[\"description\"].fillna(\"NOTHING\",inplace=True)\n",
    "df[\"actors\"].fillna(\"NOTHING\",inplace=True)\n",
    "df.isna().sum()"
   ]
  },
  {
   "cell_type": "code",
   "execution_count": 76,
   "id": "cfe26a6b-66ac-41a5-aebe-467eee0dd64b",
   "metadata": {},
   "outputs": [],
   "source": [
    "import json\n",
    "lst = []\n",
    "for i in df3.genres:\n",
    "    lst.append(json.loads(i))\n",
    "df3.genres = lst\n"
   ]
  },
  {
   "cell_type": "code",
   "execution_count": 77,
   "id": "49c992da-c6b3-44b0-b498-f9f18fb03b66",
   "metadata": {},
   "outputs": [],
   "source": [
    "gen = []\n",
    "for item in df3.genres:\n",
    "    values = []\n",
    "    # print(item)\n",
    "    for _,val in item.items():\n",
    "        values.append(val)\n",
    "    gen.append(values)\n",
    "df3.genres = gen"
   ]
  },
  {
   "cell_type": "code",
   "execution_count": 78,
   "id": "f6f775ad-41f0-41f9-9ed0-8a9b89a3625c",
   "metadata": {},
   "outputs": [
    {
     "data": {
      "text/html": [
       "<div>\n",
       "<style scoped>\n",
       "    .dataframe tbody tr th:only-of-type {\n",
       "        vertical-align: middle;\n",
       "    }\n",
       "\n",
       "    .dataframe tbody tr th {\n",
       "        vertical-align: top;\n",
       "    }\n",
       "\n",
       "    .dataframe thead th {\n",
       "        text-align: right;\n",
       "    }\n",
       "</style>\n",
       "<table border=\"1\" class=\"dataframe\">\n",
       "  <thead>\n",
       "    <tr style=\"text-align: right;\">\n",
       "      <th></th>\n",
       "      <th>movie_id</th>\n",
       "      <th>movie_name</th>\n",
       "      <th>release_date</th>\n",
       "      <th>box_office revenue</th>\n",
       "      <th>runtime</th>\n",
       "      <th>genres</th>\n",
       "    </tr>\n",
       "  </thead>\n",
       "  <tbody>\n",
       "    <tr>\n",
       "      <th>0</th>\n",
       "      <td>975900</td>\n",
       "      <td>Ghosts of Mars</td>\n",
       "      <td>8/24/2001</td>\n",
       "      <td>14010832.0</td>\n",
       "      <td>98.0</td>\n",
       "      <td>[Thriller, Science Fiction, Horror, Adventure,...</td>\n",
       "    </tr>\n",
       "    <tr>\n",
       "      <th>1</th>\n",
       "      <td>3196793</td>\n",
       "      <td>Getting Away with Murder: The JonBenét Ramsey ...</td>\n",
       "      <td>2/16/2000</td>\n",
       "      <td>NaN</td>\n",
       "      <td>95.0</td>\n",
       "      <td>[Mystery, Biographical film, Drama, Crime Drama]</td>\n",
       "    </tr>\n",
       "    <tr>\n",
       "      <th>2</th>\n",
       "      <td>28463795</td>\n",
       "      <td>Brun bitter</td>\n",
       "      <td>1988</td>\n",
       "      <td>NaN</td>\n",
       "      <td>83.0</td>\n",
       "      <td>[Crime Fiction, Drama]</td>\n",
       "    </tr>\n",
       "    <tr>\n",
       "      <th>3</th>\n",
       "      <td>9363483</td>\n",
       "      <td>White Of The Eye</td>\n",
       "      <td>1987</td>\n",
       "      <td>NaN</td>\n",
       "      <td>110.0</td>\n",
       "      <td>[Thriller, Erotic thriller, Psychological thri...</td>\n",
       "    </tr>\n",
       "    <tr>\n",
       "      <th>4</th>\n",
       "      <td>261236</td>\n",
       "      <td>A Woman in Flames</td>\n",
       "      <td>1983</td>\n",
       "      <td>NaN</td>\n",
       "      <td>106.0</td>\n",
       "      <td>[Drama]</td>\n",
       "    </tr>\n",
       "    <tr>\n",
       "      <th>...</th>\n",
       "      <td>...</td>\n",
       "      <td>...</td>\n",
       "      <td>...</td>\n",
       "      <td>...</td>\n",
       "      <td>...</td>\n",
       "      <td>...</td>\n",
       "    </tr>\n",
       "    <tr>\n",
       "      <th>653</th>\n",
       "      <td>12632216</td>\n",
       "      <td>The Two Worlds of Jenny Logan</td>\n",
       "      <td>10/31/1979</td>\n",
       "      <td>NaN</td>\n",
       "      <td>94.0</td>\n",
       "      <td>[Romantic drama]</td>\n",
       "    </tr>\n",
       "    <tr>\n",
       "      <th>654</th>\n",
       "      <td>23753154</td>\n",
       "      <td>Resin</td>\n",
       "      <td>2001</td>\n",
       "      <td>NaN</td>\n",
       "      <td>NaN</td>\n",
       "      <td>[Dogme 95]</td>\n",
       "    </tr>\n",
       "    <tr>\n",
       "      <th>655</th>\n",
       "      <td>34694618</td>\n",
       "      <td>Du rififi chez les femmes</td>\n",
       "      <td>5/20/1959</td>\n",
       "      <td>NaN</td>\n",
       "      <td>110.0</td>\n",
       "      <td>[Crime Fiction, Drama]</td>\n",
       "    </tr>\n",
       "    <tr>\n",
       "      <th>656</th>\n",
       "      <td>21038272</td>\n",
       "      <td>Oru Vidukadhai Oru Thodarkadhai</td>\n",
       "      <td>1979</td>\n",
       "      <td>NaN</td>\n",
       "      <td>122.0</td>\n",
       "      <td>[Romance Film]</td>\n",
       "    </tr>\n",
       "    <tr>\n",
       "      <th>657</th>\n",
       "      <td>33096336</td>\n",
       "      <td>Jeff, Who Lives at Home</td>\n",
       "      <td>9/14/2011</td>\n",
       "      <td>4269426.0</td>\n",
       "      <td>83.0</td>\n",
       "      <td>[Comedy film]</td>\n",
       "    </tr>\n",
       "  </tbody>\n",
       "</table>\n",
       "<p>658 rows × 6 columns</p>\n",
       "</div>"
      ],
      "text/plain": [
       "     movie_id                                         movie_name release_date  \\\n",
       "0      975900                                     Ghosts of Mars    8/24/2001   \n",
       "1     3196793  Getting Away with Murder: The JonBenét Ramsey ...    2/16/2000   \n",
       "2    28463795                                        Brun bitter         1988   \n",
       "3     9363483                                   White Of The Eye         1987   \n",
       "4      261236                                  A Woman in Flames         1983   \n",
       "..        ...                                                ...          ...   \n",
       "653  12632216                      The Two Worlds of Jenny Logan   10/31/1979   \n",
       "654  23753154                                              Resin         2001   \n",
       "655  34694618                          Du rififi chez les femmes    5/20/1959   \n",
       "656  21038272                    Oru Vidukadhai Oru Thodarkadhai         1979   \n",
       "657  33096336                            Jeff, Who Lives at Home    9/14/2011   \n",
       "\n",
       "     box_office revenue  runtime  \\\n",
       "0            14010832.0     98.0   \n",
       "1                   NaN     95.0   \n",
       "2                   NaN     83.0   \n",
       "3                   NaN    110.0   \n",
       "4                   NaN    106.0   \n",
       "..                  ...      ...   \n",
       "653                 NaN     94.0   \n",
       "654                 NaN      NaN   \n",
       "655                 NaN    110.0   \n",
       "656                 NaN    122.0   \n",
       "657           4269426.0     83.0   \n",
       "\n",
       "                                                genres  \n",
       "0    [Thriller, Science Fiction, Horror, Adventure,...  \n",
       "1     [Mystery, Biographical film, Drama, Crime Drama]  \n",
       "2                               [Crime Fiction, Drama]  \n",
       "3    [Thriller, Erotic thriller, Psychological thri...  \n",
       "4                                              [Drama]  \n",
       "..                                                 ...  \n",
       "653                                   [Romantic drama]  \n",
       "654                                         [Dogme 95]  \n",
       "655                             [Crime Fiction, Drama]  \n",
       "656                                     [Romance Film]  \n",
       "657                                      [Comedy film]  \n",
       "\n",
       "[658 rows x 6 columns]"
      ]
     },
     "execution_count": 78,
     "metadata": {},
     "output_type": "execute_result"
    }
   ],
   "source": [
    "df3"
   ]
  },
  {
   "cell_type": "markdown",
   "id": "2d13dcbc-df7f-4e5a-bcfc-ba8d5c79be9f",
   "metadata": {},
   "source": [
    "## EDA"
   ]
  },
  {
   "cell_type": "code",
   "execution_count": 51,
   "id": "ea44b83e-4a05-4da5-b2d6-db74549ef01e",
   "metadata": {},
   "outputs": [
    {
     "data": {
      "text/html": [
       "<div>\n",
       "<style scoped>\n",
       "    .dataframe tbody tr th:only-of-type {\n",
       "        vertical-align: middle;\n",
       "    }\n",
       "\n",
       "    .dataframe tbody tr th {\n",
       "        vertical-align: top;\n",
       "    }\n",
       "\n",
       "    .dataframe thead th {\n",
       "        text-align: right;\n",
       "    }\n",
       "</style>\n",
       "<table border=\"1\" class=\"dataframe\">\n",
       "  <thead>\n",
       "    <tr style=\"text-align: right;\">\n",
       "      <th></th>\n",
       "      <th>year</th>\n",
       "      <th>duration</th>\n",
       "      <th>avg_vote</th>\n",
       "      <th>votes</th>\n",
       "      <th>metascore</th>\n",
       "      <th>reviews_from_users</th>\n",
       "      <th>reviews_from_critics</th>\n",
       "    </tr>\n",
       "  </thead>\n",
       "  <tbody>\n",
       "    <tr>\n",
       "      <th>count</th>\n",
       "      <td>5964.000000</td>\n",
       "      <td>5964.000000</td>\n",
       "      <td>5964.000000</td>\n",
       "      <td>5963.000000</td>\n",
       "      <td>122.000000</td>\n",
       "      <td>5907.000000</td>\n",
       "      <td>5576.000000</td>\n",
       "    </tr>\n",
       "    <tr>\n",
       "      <th>mean</th>\n",
       "      <td>1937.075620</td>\n",
       "      <td>86.055667</td>\n",
       "      <td>6.430231</td>\n",
       "      <td>2242.572866</td>\n",
       "      <td>81.811475</td>\n",
       "      <td>24.075842</td>\n",
       "      <td>12.117826</td>\n",
       "    </tr>\n",
       "    <tr>\n",
       "      <th>std</th>\n",
       "      <td>7.625949</td>\n",
       "      <td>27.685240</td>\n",
       "      <td>0.704303</td>\n",
       "      <td>14595.194261</td>\n",
       "      <td>13.605621</td>\n",
       "      <td>49.265967</td>\n",
       "      <td>19.794231</td>\n",
       "    </tr>\n",
       "    <tr>\n",
       "      <th>min</th>\n",
       "      <td>1894.000000</td>\n",
       "      <td>43.000000</td>\n",
       "      <td>0.000000</td>\n",
       "      <td>100.000000</td>\n",
       "      <td>43.000000</td>\n",
       "      <td>1.000000</td>\n",
       "      <td>1.000000</td>\n",
       "    </tr>\n",
       "    <tr>\n",
       "      <th>25%</th>\n",
       "      <td>1933.000000</td>\n",
       "      <td>70.000000</td>\n",
       "      <td>6.000000</td>\n",
       "      <td>175.000000</td>\n",
       "      <td>73.000000</td>\n",
       "      <td>7.000000</td>\n",
       "      <td>3.000000</td>\n",
       "    </tr>\n",
       "    <tr>\n",
       "      <th>50%</th>\n",
       "      <td>1938.000000</td>\n",
       "      <td>82.000000</td>\n",
       "      <td>6.500000</td>\n",
       "      <td>352.000000</td>\n",
       "      <td>86.000000</td>\n",
       "      <td>13.000000</td>\n",
       "      <td>6.000000</td>\n",
       "    </tr>\n",
       "    <tr>\n",
       "      <th>75%</th>\n",
       "      <td>1943.000000</td>\n",
       "      <td>95.000000</td>\n",
       "      <td>6.900000</td>\n",
       "      <td>968.500000</td>\n",
       "      <td>92.000000</td>\n",
       "      <td>24.000000</td>\n",
       "      <td>12.000000</td>\n",
       "    </tr>\n",
       "    <tr>\n",
       "      <th>max</th>\n",
       "      <td>2001.000000</td>\n",
       "      <td>421.000000</td>\n",
       "      <td>8.600000</td>\n",
       "      <td>509953.000000</td>\n",
       "      <td>100.000000</td>\n",
       "      <td>1452.000000</td>\n",
       "      <td>248.000000</td>\n",
       "    </tr>\n",
       "  </tbody>\n",
       "</table>\n",
       "</div>"
      ],
      "text/plain": [
       "              year     duration     avg_vote          votes   metascore  \\\n",
       "count  5964.000000  5964.000000  5964.000000    5963.000000  122.000000   \n",
       "mean   1937.075620    86.055667     6.430231    2242.572866   81.811475   \n",
       "std       7.625949    27.685240     0.704303   14595.194261   13.605621   \n",
       "min    1894.000000    43.000000     0.000000     100.000000   43.000000   \n",
       "25%    1933.000000    70.000000     6.000000     175.000000   73.000000   \n",
       "50%    1938.000000    82.000000     6.500000     352.000000   86.000000   \n",
       "75%    1943.000000    95.000000     6.900000     968.500000   92.000000   \n",
       "max    2001.000000   421.000000     8.600000  509953.000000  100.000000   \n",
       "\n",
       "       reviews_from_users  reviews_from_critics  \n",
       "count         5907.000000           5576.000000  \n",
       "mean            24.075842             12.117826  \n",
       "std             49.265967             19.794231  \n",
       "min              1.000000              1.000000  \n",
       "25%              7.000000              3.000000  \n",
       "50%             13.000000              6.000000  \n",
       "75%             24.000000             12.000000  \n",
       "max           1452.000000            248.000000  "
      ]
     },
     "execution_count": 51,
     "metadata": {},
     "output_type": "execute_result"
    }
   ],
   "source": [
    "df.describe()"
   ]
  },
  {
   "cell_type": "code",
   "execution_count": null,
   "id": "81cecf2e-f96c-4e64-a508-0b10011e8a1a",
   "metadata": {},
   "outputs": [],
   "source": []
  },
  {
   "cell_type": "code",
   "execution_count": 7,
   "id": "72288371-3929-41d8-9396-60beac6aab57",
   "metadata": {},
   "outputs": [
    {
     "data": {
      "text/plain": [
       "Index(['imdb_title_id', 'title', 'original_title', 'year', 'date_published',\n",
       "       'genre', 'duration', 'country', 'language', 'director', 'writer',\n",
       "       'production_company', 'actors', 'description', 'avg_vote', 'votes',\n",
       "       'budget', 'usa_gross_income', 'worlwide_gross_income', 'metascore',\n",
       "       'reviews_from_users', 'reviews_from_critics'],\n",
       "      dtype='object')"
      ]
     },
     "execution_count": 7,
     "metadata": {},
     "output_type": "execute_result"
    }
   ],
   "source": [
    "df.columns"
   ]
  },
  {
   "cell_type": "code",
   "execution_count": 8,
   "id": "17020ce7-fc7c-4658-b546-00ec9d4bace8",
   "metadata": {},
   "outputs": [
    {
     "name": "stdout",
     "output_type": "stream",
     "text": [
      "<class 'pandas.core.frame.DataFrame'>\n",
      "RangeIndex: 5964 entries, 0 to 5963\n",
      "Data columns (total 22 columns):\n",
      " #   Column                 Non-Null Count  Dtype  \n",
      "---  ------                 --------------  -----  \n",
      " 0   imdb_title_id          5964 non-null   object \n",
      " 1   title                  5964 non-null   object \n",
      " 2   original_title         5964 non-null   object \n",
      " 3   year                   5964 non-null   int64  \n",
      " 4   date_published         5964 non-null   object \n",
      " 5   genre                  5964 non-null   object \n",
      " 6   duration               5964 non-null   int64  \n",
      " 7   country                5964 non-null   object \n",
      " 8   language               5756 non-null   object \n",
      " 9   director               5963 non-null   object \n",
      " 10  writer                 5941 non-null   object \n",
      " 11  production_company     5949 non-null   object \n",
      " 12  actors                 5964 non-null   object \n",
      " 13  description            5964 non-null   object \n",
      " 14  avg_vote               5964 non-null   float64\n",
      " 15  votes                  5963 non-null   float64\n",
      " 16  budget                 1084 non-null   object \n",
      " 17  usa_gross_income       205 non-null    object \n",
      " 18  worlwide_gross_income  183 non-null    object \n",
      " 19  metascore              122 non-null    float64\n",
      " 20  reviews_from_users     5907 non-null   float64\n",
      " 21  reviews_from_critics   5576 non-null   float64\n",
      "dtypes: float64(5), int64(2), object(15)\n",
      "memory usage: 1.0+ MB\n"
     ]
    }
   ],
   "source": [
    "df.info()"
   ]
  },
  {
   "cell_type": "code",
   "execution_count": 9,
   "id": "bbf00cb7-91f0-4ea1-af5d-729dc47bdcc9",
   "metadata": {},
   "outputs": [
    {
     "data": {
      "text/plain": [
       "0       False\n",
       "1       False\n",
       "2       False\n",
       "3       False\n",
       "4       False\n",
       "        ...  \n",
       "5959    False\n",
       "5960    False\n",
       "5961    False\n",
       "5962    False\n",
       "5963    False\n",
       "Name: avg_vote, Length: 5964, dtype: bool"
      ]
     },
     "execution_count": 9,
     "metadata": {},
     "output_type": "execute_result"
    }
   ],
   "source": [
    "df[\"avg_vote\"].isna()"
   ]
  },
  {
   "cell_type": "code",
   "execution_count": 79,
   "id": "0027168f-515f-48aa-be8b-8b61765748cd",
   "metadata": {},
   "outputs": [
    {
     "name": "stderr",
     "output_type": "stream",
     "text": [
      "C:\\Users\\JAWAHAR JOVAH\\AppData\\Local\\Temp\\ipykernel_13908\\1279985280.py:1: FutureWarning: A value is trying to be set on a copy of a DataFrame or Series through chained assignment using an inplace method.\n",
      "The behavior will change in pandas 3.0. This inplace method will never work because the intermediate object on which we are setting values always behaves as a copy.\n",
      "\n",
      "For example, when doing 'df[col].method(value, inplace=True)', try using 'df.method({col: value}, inplace=True)' or df[col] = df[col].method(value) instead, to perform the operation inplace on the original object.\n",
      "\n",
      "\n",
      "  df[\"avg_vote\"].fillna(0,inplace=True)\n"
     ]
    },
    {
     "data": {
      "text/plain": [
       "imdb_title_id               0\n",
       "title                       0\n",
       "original_title              0\n",
       "year                        0\n",
       "date_published              0\n",
       "genre                       0\n",
       "duration                    0\n",
       "country                     0\n",
       "language                  208\n",
       "director                    1\n",
       "writer                     23\n",
       "production_company         15\n",
       "actors                      0\n",
       "description                 0\n",
       "avg_vote                    0\n",
       "votes                       1\n",
       "budget                   4880\n",
       "usa_gross_income         5759\n",
       "worlwide_gross_income    5781\n",
       "metascore                5842\n",
       "reviews_from_users         57\n",
       "reviews_from_critics      388\n",
       "dtype: int64"
      ]
     },
     "execution_count": 79,
     "metadata": {},
     "output_type": "execute_result"
    }
   ],
   "source": [
    "df[\"avg_vote\"].fillna(0,inplace=True)\n",
    "df[\"description\"].fillna(\"NOTHING\",inplace=True)\n",
    "df[\"actors\"].fillna(\"NOTHING\",inplace=True)\n",
    "df.isna().sum()"
   ]
  },
  {
   "cell_type": "code",
   "execution_count": 52,
   "id": "55a7be2f-c721-4850-a61f-5f022317f764",
   "metadata": {},
   "outputs": [
    {
     "data": {
      "image/png": "[encoded data removed]",
      "text/plain": [
       "<Figure size 1000x600 with 1 Axes>"
      ]
     },
     "metadata": {},
     "output_type": "display_data"
    }
   ],
   "source": [
    "import matplotlib.pyplot as plt\n",
    "import seaborn as sns\n",
    "\n",
    "plt.figure(figsize=(10,6))\n",
    "sns.histplot(df['budget'][::10], kde=True)\n",
    "plt.title('Distribution of Movie Budgets')\n",
    "plt.xlabel('Budget ($)')\n",
    "plt.xticks(rotation=90)\n",
    "plt.tight_layout(pad=0.2)\n",
    "plt.ylabel('Frequency')\n",
    "plt.show()"
   ]
  },
  {
   "cell_type": "code",
   "execution_count": null,
   "id": "8a181189-c2e9-4abd-84e9-5681c3d9b53e",
   "metadata": {},
   "outputs": [],
   "source": []
  },
  {
   "cell_type": "code",
   "execution_count": null,
   "id": "fe8c121e-b54c-4327-ae65-4a8061c4dcf2",
   "metadata": {},
   "outputs": [],
   "source": []
  },
  {
   "cell_type": "code",
   "execution_count": 53,
   "id": "401ba779-5f5f-4876-b13a-f5348899d478",
   "metadata": {},
   "outputs": [
    {
     "name": "stderr",
     "output_type": "stream",
     "text": [
      "C:\\Users\\JAWAHAR JOVAH\\AppData\\Local\\Temp\\ipykernel_13908\\2089095312.py:1: FutureWarning: A value is trying to be set on a copy of a DataFrame or Series through chained assignment using an inplace method.\n",
      "The behavior will change in pandas 3.0. This inplace method will never work because the intermediate object on which we are setting values always behaves as a copy.\n",
      "\n",
      "For example, when doing 'df[col].method(value, inplace=True)', try using 'df.method({col: value}, inplace=True)' or df[col] = df[col].method(value) instead, to perform the operation inplace on the original object.\n",
      "\n",
      "\n",
      "  df[\"reviews_from_critics\"].fillna(df[\"reviews_from_critics\"].mean(),inplace=True)\n",
      "C:\\Users\\JAWAHAR JOVAH\\AppData\\Local\\Temp\\ipykernel_13908\\2089095312.py:2: FutureWarning: A value is trying to be set on a copy of a DataFrame or Series through chained assignment using an inplace method.\n",
      "The behavior will change in pandas 3.0. This inplace method will never work because the intermediate object on which we are setting values always behaves as a copy.\n",
      "\n",
      "For example, when doing 'df[col].method(value, inplace=True)', try using 'df.method({col: value}, inplace=True)' or df[col] = df[col].method(value) instead, to perform the operation inplace on the original object.\n",
      "\n",
      "\n",
      "  df[\"reviews_from_users\"].fillna(df[\"reviews_from_users\"].mean(),inplace=True)\n"
     ]
    }
   ],
   "source": [
    "df[\"reviews_from_critics\"].fillna(df[\"reviews_from_critics\"].mean(),inplace=True)\n",
    "df[\"reviews_from_users\"].fillna(df[\"reviews_from_users\"].mean(),inplace=True)"
   ]
  },
  {
   "cell_type": "code",
   "execution_count": 54,
   "id": "fbd85a8e-e545-4a0a-a1c2-45fb64bee60f",
   "metadata": {},
   "outputs": [
    {
     "data": {
      "image/png": "[encoded data removed]",
      "text/plain": [
       "<Figure size 1000x600 with 1 Axes>"
      ]
     },
     "metadata": {},
     "output_type": "display_data"
    }
   ],
   "source": [
    "# Top 10 high review Movies\n",
    "top_movies = df.nlargest(10, 'reviews_from_critics')\n",
    "plt.figure(figsize=(10,6))\n",
    "plt.bar(top_movies['title'], top_movies['reviews_from_critics'])\n",
    "plt.title('Top 10 high review Movies')\n",
    "plt.xlabel('Movie Title')\n",
    "plt.ylabel('reviews_from_critics')\n",
    "plt.xticks(rotation=90)\n",
    "plt.tight_layout()\n",
    "plt.show()"
   ]
  },
  {
   "cell_type": "code",
   "execution_count": 55,
   "id": "98945d06-77f8-479f-9731-61a33511443d",
   "metadata": {},
   "outputs": [
    {
     "data": {
      "image/png": "[encoded data removed]",
      "text/plain": [
       "<Figure size 1000x600 with 1 Axes>"
      ]
     },
     "metadata": {},
     "output_type": "display_data"
    }
   ],
   "source": [
    "# Box Plot of Genres by Average Vote\n",
    "import seaborn as sns\n",
    "import matplotlib.pyplot as plt\n",
    "\n",
    "genres = df['genre'].unique()\n",
    "avg_votes = []\n",
    "\n",
    "for genre in genres:\n",
    "    avg_votes.append(df[df['genre'] == genre]['avg_vote'].mean())\n",
    "\n",
    "sns.set_style('whitegrid')\n",
    "plt.figure(figsize=(10,6))\n",
    "sns.lineplot(x=genres[::10],y=avg_votes[::10])\n",
    "\n",
    "# sns.boxplot(x=genres, y=avg_votes)\n",
    "plt.title('Genres by Average Vote')\n",
    "plt.xlabel('Genre')\n",
    "plt.ylabel('Average Vote')\n",
    "plt.xticks(rotation=90)\n",
    "plt.tight_layout()\n",
    "plt.show()"
   ]
  },
  {
   "cell_type": "code",
   "execution_count": null,
   "id": "78469f8b-ca42-4708-bf50-cc60ab12fa44",
   "metadata": {},
   "outputs": [],
   "source": []
  },
  {
   "cell_type": "code",
   "execution_count": null,
   "id": "0fa10f6e-5c30-455e-83e0-a4711df7c3f9",
   "metadata": {},
   "outputs": [],
   "source": []
  },
  {
   "cell_type": "code",
   "execution_count": 119,
   "id": "85bddb05-254d-4135-aff1-a233b5946788",
   "metadata": {},
   "outputs": [],
   "source": [
    "df[\"worlwide_gross_income\"] = df[\"worlwide_gross_income\"].str.replace(\"$\",\"\").str.replace(\",\",\"\").str.replace(\"GBP \",\"\")\n",
    "df[\"usa_gross_income\"] = df[\"usa_gross_income\"].str.replace(\"$\",\"\").str.replace(\",\",\"\").str.replace(\"GBP \",\"\").str.replace(\"EUR \",\"\")"
   ]
  },
  {
   "cell_type": "code",
   "execution_count": 126,
   "id": "2999d2e3-a11e-41c3-98e9-e3033a978619",
   "metadata": {},
   "outputs": [],
   "source": [
    "df[\"worlwide_gross_income\"].fillna(0,inplace=True)\n",
    "df[\"usa_gross_income\"].fillna(0,inplace=True)\n",
    "df['worlwide_gross_income'] = df['worlwide_gross_income'].astype(\"int\")\n",
    "df['usa_gross_income'] = df['usa_gross_income'].astype(\"int\")"
   ]
  },
  {
   "cell_type": "code",
   "execution_count": 137,
   "id": "4e4a9ef2-5439-482d-9d12-c0bdb686dfc0",
   "metadata": {},
   "outputs": [
    {
     "data": {
      "image/png": "[encoded data removed]",
      "text/plain": [
       "<Figure size 1200x600 with 2 Axes>"
      ]
     },
     "metadata": {},
     "output_type": "display_data"
    }
   ],
   "source": [
    "import matplotlib.pyplot as plt\n",
    "\n",
    "plt.figure(figsize=(12, 6))\n",
    "\n",
    "# Histogram for worldwide gross income\n",
    "plt.subplot(1, 2, 1)\n",
    "plt.hist(df['worlwide_gross_income'].dropna(), color='skyblue',bins=30)\n",
    "plt.title('Distribution of Worldwide Gross Income')\n",
    "plt.xlabel('Worldwide Gross Income')\n",
    "plt.ylabel('Frequency')\n",
    "\n",
    "# Histogram for USA gross income\n",
    "plt.subplot(1, 2, 2)\n",
    "plt.hist(df['usa_gross_income'].dropna(), color='salmon',bins=30)\n",
    "plt.title('Distribution of USA Gross Income')\n",
    "plt.xlabel('USA Gross Income')\n",
    "plt.ylabel('Frequency')\n",
    "\n",
    "plt.tight_layout()\n",
    "plt.show()"
   ]
  },
  {
   "cell_type": "code",
   "execution_count": 146,
   "id": "8c8c27e5-521e-4130-a277-e5cfeb62e549",
   "metadata": {},
   "outputs": [
    {
     "name": "stdout",
     "output_type": "stream",
     "text": [
      "<class 'pandas.core.frame.DataFrame'>\n",
      "RangeIndex: 5964 entries, 0 to 5963\n",
      "Data columns (total 22 columns):\n",
      " #   Column                 Non-Null Count  Dtype  \n",
      "---  ------                 --------------  -----  \n",
      " 0   imdb_title_id          5964 non-null   object \n",
      " 1   title                  5964 non-null   object \n",
      " 2   original_title         5964 non-null   object \n",
      " 3   year                   5964 non-null   int64  \n",
      " 4   date_published         5964 non-null   object \n",
      " 5   genre                  5964 non-null   object \n",
      " 6   duration               5964 non-null   int64  \n",
      " 7   country                5964 non-null   object \n",
      " 8   language               5756 non-null   object \n",
      " 9   director               5963 non-null   object \n",
      " 10  writer                 5941 non-null   object \n",
      " 11  production_company     5949 non-null   object \n",
      " 12  actors                 5964 non-null   object \n",
      " 13  description            5964 non-null   object \n",
      " 14  avg_vote               5964 non-null   float64\n",
      " 15  votes                  5963 non-null   float64\n",
      " 16  budget                 1084 non-null   object \n",
      " 17  usa_gross_income       5964 non-null   int32  \n",
      " 18  worlwide_gross_income  5964 non-null   int32  \n",
      " 19  metascore              122 non-null    float64\n",
      " 20  reviews_from_users     5907 non-null   float64\n",
      " 21  reviews_from_critics   5576 non-null   float64\n",
      "dtypes: float64(5), int32(2), int64(2), object(13)\n",
      "memory usage: 978.6+ KB\n"
     ]
    }
   ],
   "source": [
    "df.info()"
   ]
  },
  {
   "cell_type": "code",
   "execution_count": null,
   "id": "b5bda050-b445-4b9c-89ef-787b1784b589",
   "metadata": {},
   "outputs": [],
   "source": []
  },
  {
   "cell_type": "code",
   "execution_count": null,
   "id": "75b0b780-f8d1-482c-924f-5582ed9f7be3",
   "metadata": {},
   "outputs": [],
   "source": []
  },
  {
   "cell_type": "code",
   "execution_count": null,
   "id": "f201706c-4a3f-49c6-aa3c-418db4d42bcb",
   "metadata": {},
   "outputs": [],
   "source": []
  },
  {
   "cell_type": "markdown",
   "id": "a899fbbd-d40e-48bd-a26b-c18e96af64c3",
   "metadata": {},
   "source": [
    "## model building"
   ]
  },
  {
   "cell_type": "code",
   "execution_count": 141,
   "id": "7966e73c-c834-45bd-bf10-f48880c35716",
   "metadata": {},
   "outputs": [
    {
     "name": "stdout",
     "output_type": "stream",
     "text": [
      "user: tt0000574  item: 1923       r_ui = None   est = 6.83   {'was_impossible': False}\n",
      "user: tt0000574  item: 1928       r_ui = None   est = 6.78   {'was_impossible': False}\n",
      "user: tt0000574  item: 1926       r_ui = None   est = 6.77   {'was_impossible': False}\n",
      "user: tt0000574  item: 1927       r_ui = None   est = 6.70   {'was_impossible': False}\n",
      "user: tt0000574  item: 1921       r_ui = None   est = 6.69   {'was_impossible': False}\n",
      "user: tt0000574  item: 1939       r_ui = None   est = 6.68   {'was_impossible': False}\n",
      "user: tt0000574  item: 1948       r_ui = None   est = 6.67   {'was_impossible': False}\n",
      "user: tt0000574  item: 1949       r_ui = None   est = 6.65   {'was_impossible': False}\n",
      "user: tt0000574  item: 1924       r_ui = None   est = 6.64   {'was_impossible': False}\n",
      "user: tt0000574  item: 1925       r_ui = None   est = 6.62   {'was_impossible': False}\n"
     ]
    }
   ],
   "source": [
    "#collaborative filtering\n",
    "\n",
    "from surprise.prediction_algorithms import SVD\n",
    "from surprise.model_selection import train_test_split,cross_validate\n",
    "from surprise import Reader, Dataset\n",
    "from surprise import accuracy\n",
    "\n",
    "\n",
    "# line format doesn't do anything beacuse the algorithm is dependent on user-item-rating relationship \n",
    "# it does not consider anything more than 3 parameters,\n",
    "# what 3 column you mention they are considered as user-item-ratings and treated as that\n",
    "read = Reader(rating_scale=(1,10))\n",
    "data = Dataset.load_from_df(df[[\"imdb_title_id\",\"year\",\"avg_vote\"]], reader=read)\n",
    "\n",
    "algo = SVD()\n",
    "train_data,test_data = train_test_split(data,test_size=0.2)\n",
    "algo.fit(train_data)\n",
    "\n",
    "\n",
    "\n",
    "def recom_movies(t,y,n=10):\n",
    "    predi = [algo.predict(t,i) for i in df[\"year\"].unique()]\n",
    "    top_rec = sorted(predi,key=lambda x:x.est,reverse=True)[:n]\n",
    "    return top_rec\n",
    "\n",
    "\n",
    "title = \"tt0000574\"\n",
    "year = 1906\n",
    "\n",
    "rec = recom_movies(title,year)\n",
    "for i in rec:\n",
    "    print(i)\n",
    "# predictions = algo.test(test_data)\n",
    "# rmse = accuracy.rmse(predictions)\n",
    "# mae = accuracy.mae(predictions)\n",
    "# cross_validate(algo,data,measures=['RMSE','MSE'],cv=5)"
   ]
  },
  {
   "cell_type": "code",
   "execution_count": null,
   "id": "548d6a2e-ef69-4db7-80ab-b3228c29728d",
   "metadata": {},
   "outputs": [],
   "source": []
  },
  {
   "cell_type": "code",
   "execution_count": 7,
   "id": "4ce80d73-6b0c-4c80-a07b-79e4e3ab23b3",
   "metadata": {},
   "outputs": [
    {
     "name": "stdout",
     "output_type": "stream",
     "text": [
      "Road House\n",
      "5962    Action, Drama, Film-Noir\n",
      "Name: genre, dtype: object\n",
      "\n",
      "\n",
      "The Pay Off\n",
      "4571    Action, Crime, Film-Noir\n",
      "Name: genre, dtype: object\n",
      "\n",
      "\n",
      "The Whistler\n",
      "4915    Action, Crime, Film-Noir\n",
      "Name: genre, dtype: object\n",
      "\n",
      "\n",
      "Blackmail\n",
      "707              Crime, Thriller\n",
      "3195      Crime, Drama, Thriller\n",
      "5450    Action, Crime, Film-Noir\n",
      "Name: genre, dtype: object\n",
      "\n",
      "\n",
      "Paid\n",
      "948    Drama, Film-Noir\n",
      "Name: genre, dtype: object\n",
      "\n",
      "\n",
      "Flight from Destiny\n",
      "3853    Drama, Film-Noir\n",
      "Name: genre, dtype: object\n",
      "\n",
      "\n",
      "Dangerous Passage\n",
      "4694    Drama, Film-Noir\n",
      "Name: genre, dtype: object\n",
      "\n",
      "\n",
      "Guest in the House\n",
      "4740    Drama, Film-Noir\n",
      "Name: genre, dtype: object\n",
      "\n",
      "\n",
      "The Hairy Ape\n",
      "4742    Drama, Film-Noir\n",
      "Name: genre, dtype: object\n",
      "\n",
      "\n",
      "The Mark of the Whistler\n",
      "4792    Drama, Film-Noir\n",
      "Name: genre, dtype: object\n",
      "\n",
      "\n"
     ]
    }
   ],
   "source": [
    "# content based filtering\n",
    "# the predictions are based on genre\n",
    "\n",
    "import pandas as pd\n",
    "from sklearn.feature_extraction.text import TfidfVectorizer\n",
    "from sklearn.metrics.pairwise import linear_kernel,cosine_similarity\n",
    "\n",
    "\n",
    "\n",
    "tfidf = TfidfVectorizer(stop_words='english')\n",
    "tfidf_matrix = tfidf.fit_transform(df['genre'])\n",
    "cosine_sim = linear_kernel(tfidf_matrix,tfidf_matrix)\n",
    "\n",
    "def rec_movies(title,n=10):\n",
    "    indices = pd.Series(df.index, index=df['original_title']).drop_duplicates()\n",
    "    # print(indices)\n",
    "    idx = indices[title]\n",
    "    sim_scores = list(enumerate(cosine_sim[idx]))\n",
    "    # print(sim_scores)\n",
    "    sim_scores = sorted(sim_scores, key=lambda x: x[1], reverse=True)[:n]\n",
    "    top_content = [df['original_title'].iloc[i[0]] for i in sim_scores]\n",
    "\n",
    "    return top_content\n",
    "title = \"Road House\"\n",
    "content = rec_movies(title)\n",
    "\n",
    "# print(\"Title :\",title)\n",
    "# print(\"genre :\",df[df[\"original_title\"] == title].genre)\n",
    "for i in content:\n",
    "    line = df[df[\"original_title\"]==i].genre\n",
    "    print(i)\n",
    "    print(line)\n",
    "    print(\"\\n\")"
   ]
  },
  {
   "cell_type": "code",
   "execution_count": 40,
   "id": "dd0ef281-ec0d-4f1e-b6db-636639c839e3",
   "metadata": {},
   "outputs": [
    {
     "name": "stdout",
     "output_type": "stream",
     "text": [
      "Movie :  Road House\n",
      "     country                     genre\n",
      "5962     USA  Action, Drama, Film-Noir\n",
      "\n",
      "\n",
      "Movie :  The Purchase Price\n",
      "     country          genre\n",
      "1398     USA  Comedy, Drama\n",
      "\n",
      "\n",
      "Movie :  Copacabana\n",
      "     country            genre\n",
      "5484     USA  Comedy, Musical\n",
      "\n",
      "\n",
      "Movie :  Du Barry Was a Lady\n",
      "     country            genre\n",
      "4455     USA  Comedy, Musical\n",
      "\n",
      "\n",
      "Movie :  Torch Singer\n",
      "     country                    genre\n",
      "1710     USA  Drama, Musical, Romance\n",
      "\n",
      "\n",
      "Movie :  The House of the Seven Gables\n",
      "     country            genre\n",
      "3590     USA  Drama, Thriller\n",
      "\n",
      "\n",
      "Movie :  Broadway Hostess\n",
      "     country                     genre\n",
      "2051     USA  Comedy, Musical, Romance\n",
      "\n",
      "\n",
      "Movie :  Allá en el Rancho Grande\n",
      "     country                 genre\n",
      "2312  Mexico  Comedy, Drama, Music\n",
      "\n",
      "\n",
      "Movie :  Piccadilly\n",
      "    country         genre\n",
      "786      UK  Drama, Crime\n",
      "\n",
      "\n",
      "Movie :  Captured!\n",
      "     country                genre\n",
      "1514     USA  Drama, Romance, War\n",
      "\n",
      "\n"
     ]
    }
   ],
   "source": [
    "# content based filtering\n",
    "# the predictions are based on description\n",
    "\n",
    "import pandas as pd\n",
    "from sklearn.feature_extraction.text import TfidfVectorizer\n",
    "from sklearn.metrics.pairwise import linear_kernel,cosine_similarity\n",
    "\n",
    "\n",
    "\n",
    "tfidf = TfidfVectorizer(stop_words='english')\n",
    "tfidf_matrix = tfidf.fit_transform(df['description'])\n",
    "cosine_sim = linear_kernel(tfidf_matrix,tfidf_matrix)\n",
    "\n",
    "def rec_movies(title,n=10):\n",
    "    indices = pd.Series(df.index, index=df['original_title']).drop_duplicates()\n",
    "    # print(indices)\n",
    "    idx = indices[title]\n",
    "    sim_scores = list(enumerate(cosine_sim[idx]))\n",
    "    # print(sim_scores)\n",
    "    sim_scores = sorted(sim_scores, key=lambda x: x[1], reverse=True)[:n]\n",
    "    top_content = [df['original_title'].iloc[i[0]] for i in sim_scores]\n",
    "\n",
    "    return top_content\n",
    "title = \"Road House\"\n",
    "content = rec_movies(title)\n",
    "\n",
    "# print(\"Title :\",title)\n",
    "# print(\"genre :\",df[df[\"original_title\"] == title].genre)\n",
    "for i in content:\n",
    "    line = df[df[\"original_title\"]==i][['country',\"genre\"]]\n",
    "    print(\"Movie : \",i)\n",
    "    print(line)\n",
    "    print(\"\\n\")"
   ]
  },
  {
   "cell_type": "code",
   "execution_count": null,
   "id": "c4d3655a-b6b4-4a98-acef-7a3f1fa94a45",
   "metadata": {},
   "outputs": [],
   "source": []
  },
  {
   "cell_type": "code",
   "execution_count": 38,
   "id": "c856621d-31d5-4f38-a1dd-a1757bd54a08",
   "metadata": {},
   "outputs": [
    {
     "name": "stdout",
     "output_type": "stream",
     "text": [
      "Road House\n",
      "5962    USA\n",
      "Name: country, dtype: object\n",
      "\n",
      "\n",
      "Life Begins at Eight-Thirty\n",
      "4216    USA\n",
      "Name: country, dtype: object\n",
      "\n",
      "\n",
      "High Sierra\n",
      "3884    USA\n",
      "Name: country, dtype: object\n",
      "\n",
      "\n",
      "Three Little Girls in Blue\n",
      "5395    USA\n",
      "Name: country, dtype: object\n",
      "\n",
      "\n",
      "They Drive by Night\n",
      "3135     UK\n",
      "3729    USA\n",
      "Name: country, dtype: object\n",
      "\n",
      "\n",
      "Ride the Pink Horse\n",
      "5655    USA\n",
      "Name: country, dtype: object\n",
      "\n",
      "\n",
      "Born to Kill\n",
      "5461    USA\n",
      "Name: country, dtype: object\n",
      "\n",
      "\n",
      "Leave Her to Heaven\n",
      "5043    USA\n",
      "Name: country, dtype: object\n",
      "\n",
      "\n",
      "Deep Valley\n",
      "5499    USA\n",
      "Name: country, dtype: object\n",
      "\n",
      "\n",
      "A Song to Remember\n",
      "5104    USA\n",
      "Name: country, dtype: object\n",
      "\n",
      "\n"
     ]
    }
   ],
   "source": [
    "# content based filtering\n",
    "# the predictions are based on genre, actors, country\n",
    "\n",
    "import pandas as pd\n",
    "from sklearn.feature_extraction.text import TfidfVectorizer\n",
    "from sklearn.metrics.pairwise import cosine_similarity\n",
    "from sklearn.preprocessing import normalize\n",
    "\n",
    "combined_text = df['genre']+\" \"+df[\"actors\"]+\" \"+df[\"country\"]\n",
    "tfidf = TfidfVectorizer(stop_words='english')\n",
    "tfidf_matrix = tfidf.fit_transform(combined_text)\n",
    "# tfidf_matrix_actors = tfidf.fit_transform(df['actors'])\n",
    "\n",
    "\n",
    "cosine_sim = cosine_similarity(tfidf_matrix)\n",
    "\n",
    "def rec_movies(title,n=10):\n",
    "    indices = pd.Series(df.index, index=df['original_title']).drop_duplicates()\n",
    "    # print(indices)\n",
    "    idx = indices[title]\n",
    "    sim_scores = list(enumerate(cosine_sim[idx]))\n",
    "    sim_scores = sorted(sim_scores, key=lambda x: x[1], reverse=True)[:n]\n",
    "    top_content = [df['original_title'].iloc[i[0]] for i in sim_scores]\n",
    "\n",
    "    return top_content\n",
    "title = \"Road House\"\n",
    "content = rec_movies(title)\n",
    "\n",
    "# print(\"Title :\",title)\n",
    "# print(\"genre :\",df[df[\"original_title\"] == title].genre)\n",
    "# print(\"\\n\")\n",
    "for i in content:\n",
    "    line = df[df[\"original_title\"]==i]['country']\n",
    "    print(i)\n",
    "    print(line)\n",
    "    print(\"\\n\")"
   ]
  },
  {
   "cell_type": "code",
   "execution_count": null,
   "id": "55955be9-231b-484d-bf50-981077ff64b4",
   "metadata": {},
   "outputs": [],
   "source": []
  },
  {
   "cell_type": "code",
   "execution_count": null,
   "id": "2ef16f5c-bdf3-4c06-a6c1-cc2f4451769e",
   "metadata": {},
   "outputs": [],
   "source": []
  },
  {
   "cell_type": "code",
   "execution_count": null,
   "id": "84b8abd4-064f-4f76-8274-0d1e24f7ab03",
   "metadata": {},
   "outputs": [],
   "source": []
  },
  {
   "cell_type": "code",
   "execution_count": null,
   "id": "4bf22645-ae62-4b61-b423-f070016f1afb",
   "metadata": {},
   "outputs": [],
   "source": []
  },
  {
   "cell_type": "code",
   "execution_count": 41,
   "id": "b4e2ff0b-eda8-40a0-82c4-8e581e47c9a7",
   "metadata": {},
   "outputs": [],
   "source": [
    "# study = optuna.create_study()\n",
    "# study.optimize(rec_movies,n_trials=100)"
   ]
  },
  {
   "cell_type": "markdown",
   "id": "5dfe17d4-95be-4699-9662-acb2a418a511",
   "metadata": {},
   "source": [
    "## Collaborative filtering algorithms"
   ]
  },
  {
   "cell_type": "code",
   "execution_count": 139,
   "id": "38ece362-fcb6-4bf7-a41b-d8400ca4416c",
   "metadata": {},
   "outputs": [
    {
     "name": "stdout",
     "output_type": "stream",
     "text": [
      "Evaluating RMSE, MAE of algorithm SVD on 4 split(s).\n",
      "\n",
      "                  Fold 1  Fold 2  Fold 3  Fold 4  Mean    Std     \n",
      "RMSE (testset)    0.7175  0.6962  0.6849  0.7172  0.7039  0.0140  \n",
      "MAE (testset)     0.5433  0.5203  0.5141  0.5498  0.5319  0.0150  \n",
      "Fit time          0.12    0.13    0.11    0.11    0.12    0.01    \n",
      "Test time         0.02    0.01    0.02    0.01    0.02    0.00    \n",
      "Evaluating RMSE, MAE of algorithm SVDpp on 4 split(s).\n",
      "\n",
      "                  Fold 1  Fold 2  Fold 3  Fold 4  Mean    Std     \n",
      "RMSE (testset)    0.7014  0.6883  0.7113  0.7153  0.7041  0.0104  \n",
      "MAE (testset)     0.5259  0.5283  0.5308  0.5425  0.5319  0.0064  \n",
      "Fit time          0.10    0.10    0.12    0.11    0.11    0.01    \n",
      "Test time         0.02    0.02    0.02    0.02    0.02    0.00    \n",
      "Evaluating RMSE, MAE of algorithm NMF on 4 split(s).\n",
      "\n",
      "                  Fold 1  Fold 2  Fold 3  Fold 4  Mean    Std     \n",
      "RMSE (testset)    0.6928  0.7230  0.7104  0.6912  0.7044  0.0131  \n",
      "MAE (testset)     0.5204  0.5399  0.5379  0.5309  0.5323  0.0076  \n",
      "Fit time          1.78    1.82    1.82    1.78    1.80    0.02    \n",
      "Test time         0.03    0.03    0.03    0.03    0.03    0.00    \n",
      "Evaluating RMSE, MAE of algorithm SlopeOne on 4 split(s).\n",
      "\n",
      "                  Fold 1  Fold 2  Fold 3  Fold 4  Mean    Std     \n",
      "RMSE (testset)    0.6764  0.6947  0.7070  0.7379  0.7040  0.0224  \n",
      "MAE (testset)     0.5198  0.5174  0.5405  0.5507  0.5321  0.0140  \n",
      "Fit time          0.51    0.53    0.49    0.52    0.51    0.01    \n",
      "Test time         0.02    0.02    0.02    0.02    0.02    0.00    \n",
      "Evaluating RMSE, MAE of algorithm KNNBaseline on 4 split(s).\n",
      "\n",
      "                  Fold 1  Fold 2  Fold 3  Fold 4  Mean    Std     \n",
      "RMSE (testset)    0.7170  0.6967  0.7041  0.6982  0.7040  0.0080  \n",
      "MAE (testset)     0.5369  0.5280  0.5297  0.5333  0.5320  0.0034  \n",
      "Fit time          0.42    0.40    0.39    0.39    0.40    0.01    \n",
      "Test time         0.02    0.03    0.02    0.02    0.02    0.01    \n",
      "Evaluating RMSE, MAE of algorithm KNNWithMeans on 4 split(s).\n",
      "\n",
      "                  Fold 1  Fold 2  Fold 3  Fold 4  Mean    Std     \n",
      "RMSE (testset)    0.6933  0.6886  0.6957  0.7392  0.7042  0.0204  \n",
      "MAE (testset)     0.5288  0.5266  0.5351  0.5382  0.5322  0.0047  \n",
      "Fit time          0.76    0.76    0.79    0.77    0.77    0.01    \n",
      "Test time         0.05    0.03    0.03    0.06    0.04    0.01    \n",
      "Evaluating RMSE, MAE of algorithm KNNWithZScore on 4 split(s).\n",
      "\n",
      "                  Fold 1  Fold 2  Fold 3  Fold 4  Mean    Std     \n",
      "RMSE (testset)    0.6710  0.6990  0.7415  0.7043  0.7039  0.0251  \n",
      "MAE (testset)     0.5161  0.5347  0.5500  0.5279  0.5322  0.0123  \n",
      "Fit time          1.30    1.24    1.19    1.10    1.21    0.07    \n",
      "Test time         0.05    0.03    0.03    0.03    0.03    0.01    \n",
      "Evaluating RMSE, MAE of algorithm CoClustering on 4 split(s).\n",
      "\n",
      "                  Fold 1  Fold 2  Fold 3  Fold 4  Mean    Std     \n",
      "RMSE (testset)    0.6919  0.6829  0.7151  0.7268  0.7042  0.0176  \n",
      "MAE (testset)     0.5221  0.5243  0.5403  0.5422  0.5322  0.0091  \n",
      "Fit time          2.18    2.18    2.17    2.15    2.17    0.01    \n",
      "Test time         0.01    0.01    0.01    0.01    0.01    0.00    \n"
     ]
    }
   ],
   "source": [
    "import pandas as pd\n",
    "from surprise import Dataset, Reader\n",
    "from surprise.model_selection import train_test_split, cross_validate\n",
    "from surprise.prediction_algorithms import SVD, SVDpp, NMF, SlopeOne, KNNBaseline, KNNWithMeans, KNNWithZScore, CoClustering\n",
    "\n",
    "reader = Reader(rating_scale=(1, 10))\n",
    "dataset = Dataset.load_from_df(df[['imdb_title_id', 'original_title', 'avg_vote']], reader)\n",
    "\n",
    "algorithms = [SVD(), SVDpp(), NMF(), SlopeOne(), KNNBaseline(), KNNWithMeans(), KNNWithZScore(), CoClustering()]\n",
    "\n",
    "results = dict({})\n",
    "for algo in algorithms:\n",
    "    algo_name = algo.__class__.__name__\n",
    "    results[f\"{algo_name}\"] = cross_validate(algo, dataset, measures=['RMSE', 'MAE'], cv=4, verbose=True,n_jobs=-1)\n"
   ]
  },
  {
   "cell_type": "markdown",
   "id": "84bffb5e-5918-4c52-ac40-f11a84d03b71",
   "metadata": {},
   "source": [
    "## Hyper parameter tunning"
   ]
  },
  {
   "cell_type": "code",
   "execution_count": 145,
   "id": "e1f390b9-ac4d-4beb-8f13-278396c29fed",
   "metadata": {},
   "outputs": [
    {
     "name": "stderr",
     "output_type": "stream",
     "text": [
      "[I 2025-01-28 14:15:34,606] A new study created in memory with name: no-name-0ab50c14-4912-4f00-898c-4af7e8533f10\n",
      "C:\\Users\\JAWAHAR JOVAH\\AppData\\Local\\Temp\\ipykernel_13908\\1431702651.py:8: FutureWarning: suggest_loguniform has been deprecated in v3.0.0. This feature will be removed in v6.0.0. See https://github.com/optuna/optuna/releases/tag/v3.0.0. Use suggest_float(..., log=True) instead.\n",
      "  reg_all=trial.suggest_loguniform('reg_all', 1e-4, 1e-2))\n",
      "[I 2025-01-28 14:15:35,071] Trial 0 finished with value: 0.6982263859640354 and parameters: {'algo': 'SVD', 'n_factors': 122, 'reg_all': 0.009056302645886255}. Best is trial 0 with value: 0.6982263859640354.\n",
      "[I 2025-01-28 14:15:35,184] Trial 1 finished with value: 0.7044058312580802 and parameters: {'algo': 'KNNWithZScore', 'name': 'cosine', 'user_based': False}. Best is trial 0 with value: 0.6982263859640354.\n"
     ]
    },
    {
     "name": "stdout",
     "output_type": "stream",
     "text": [
      "Computing the cosine similarity matrix...\n",
      "Done computing similarity matrix.\n",
      "Computing the cosine similarity matrix...\n",
      "Done computing similarity matrix.\n",
      "Computing the cosine similarity matrix...\n",
      "Done computing similarity matrix.\n",
      "Computing the cosine similarity matrix...\n",
      "Done computing similarity matrix.\n"
     ]
    },
    {
     "name": "stderr",
     "output_type": "stream",
     "text": [
      "[I 2025-01-28 14:15:35,506] Trial 2 finished with value: 0.7043828819306804 and parameters: {'algo': 'SlopeOne'}. Best is trial 0 with value: 0.6982263859640354.\n"
     ]
    },
    {
     "name": "stdout",
     "output_type": "stream",
     "text": [
      "Computing the msd similarity matrix...\n",
      "Done computing similarity matrix.\n",
      "Computing the msd similarity matrix...\n",
      "Done computing similarity matrix.\n",
      "Computing the msd similarity matrix...\n",
      "Done computing similarity matrix.\n",
      "Computing the msd similarity matrix...\n"
     ]
    },
    {
     "name": "stderr",
     "output_type": "stream",
     "text": [
      "[I 2025-01-28 14:15:38,446] Trial 3 finished with value: 0.7050469864123521 and parameters: {'algo': 'KNNWithZScore', 'name': 'msd', 'user_based': True}. Best is trial 0 with value: 0.6982263859640354.\n"
     ]
    },
    {
     "name": "stdout",
     "output_type": "stream",
     "text": [
      "Done computing similarity matrix.\n"
     ]
    },
    {
     "name": "stderr",
     "output_type": "stream",
     "text": [
      "[I 2025-01-28 14:15:40,431] Trial 4 finished with value: 0.7047333889925419 and parameters: {'algo': 'CoClustering', 'n_cltr_u': 1, 'n_cltr_i': 2}. Best is trial 0 with value: 0.6982263859640354.\n"
     ]
    },
    {
     "name": "stdout",
     "output_type": "stream",
     "text": [
      "Estimating biases using als...\n",
      "Computing the pearson_baseline similarity matrix...\n",
      "Done computing similarity matrix.\n",
      "Estimating biases using als...\n",
      "Computing the pearson_baseline similarity matrix...\n",
      "Done computing similarity matrix.\n",
      "Estimating biases using als...\n",
      "Computing the pearson_baseline similarity matrix...\n",
      "Done computing similarity matrix.\n",
      "Estimating biases using als...\n",
      "Computing the pearson_baseline similarity matrix...\n"
     ]
    },
    {
     "name": "stderr",
     "output_type": "stream",
     "text": [
      "[I 2025-01-28 14:15:44,416] Trial 5 finished with value: 0.7042203800955905 and parameters: {'algo': 'KNNWithZScore', 'name': 'pearson_baseline', 'user_based': True}. Best is trial 0 with value: 0.6982263859640354.\n"
     ]
    },
    {
     "name": "stdout",
     "output_type": "stream",
     "text": [
      "Done computing similarity matrix.\n",
      "Computing the msd similarity matrix...\n",
      "Done computing similarity matrix.\n",
      "Computing the msd similarity matrix...\n",
      "Done computing similarity matrix.\n",
      "Computing the msd similarity matrix...\n",
      "Done computing similarity matrix.\n",
      "Computing the msd similarity matrix...\n"
     ]
    },
    {
     "name": "stderr",
     "output_type": "stream",
     "text": [
      "[I 2025-01-28 14:15:50,229] Trial 6 finished with value: 0.7042555269373381 and parameters: {'algo': 'KNNWithZScore', 'name': 'msd', 'user_based': True}. Best is trial 0 with value: 0.6982263859640354.\n"
     ]
    },
    {
     "name": "stdout",
     "output_type": "stream",
     "text": [
      "Done computing similarity matrix.\n"
     ]
    },
    {
     "name": "stderr",
     "output_type": "stream",
     "text": [
      "[I 2025-01-28 14:15:50,484] Trial 7 finished with value: 0.7041440898621828 and parameters: {'algo': 'SlopeOne'}. Best is trial 0 with value: 0.6982263859640354.\n"
     ]
    },
    {
     "name": "stdout",
     "output_type": "stream",
     "text": [
      "Computing the msd similarity matrix...\n",
      "Done computing similarity matrix.\n",
      "Computing the msd similarity matrix...\n",
      "Done computing similarity matrix.\n",
      "Computing the msd similarity matrix...\n",
      "Done computing similarity matrix.\n",
      "Computing the msd similarity matrix...\n"
     ]
    },
    {
     "name": "stderr",
     "output_type": "stream",
     "text": [
      "[I 2025-01-28 14:15:52,751] Trial 8 finished with value: 0.7040838973400061 and parameters: {'algo': 'KNNWithMeans', 'name': 'msd', 'user_based': True}. Best is trial 0 with value: 0.6982263859640354.\n"
     ]
    },
    {
     "name": "stdout",
     "output_type": "stream",
     "text": [
      "Done computing similarity matrix.\n"
     ]
    },
    {
     "name": "stderr",
     "output_type": "stream",
     "text": [
      "[I 2025-01-28 14:15:53,002] Trial 9 finished with value: 0.704222211778434 and parameters: {'algo': 'SlopeOne'}. Best is trial 0 with value: 0.6982263859640354.\n",
      "[I 2025-01-28 14:15:53,350] Trial 10 finished with value: 0.6987199524389179 and parameters: {'algo': 'SVD', 'n_factors': 119, 'reg_all': 0.009925318129001773}. Best is trial 0 with value: 0.6982263859640354.\n",
      "[I 2025-01-28 14:15:55,025] Trial 11 finished with value: 0.6989352433961153 and parameters: {'algo': 'SVD', 'n_factors': 116, 'reg_all': 0.008939406954916563}. Best is trial 0 with value: 0.6982263859640354.\n",
      "[I 2025-01-28 14:15:55,804] Trial 12 finished with value: 0.6988011538565257 and parameters: {'algo': 'SVD', 'n_factors': 126, 'reg_all': 0.009589840657318573}. Best is trial 0 with value: 0.6982263859640354.\n",
      "[I 2025-01-28 14:15:56,245] Trial 13 finished with value: 0.6962860176785363 and parameters: {'algo': 'SVD', 'n_factors': 82, 'reg_all': 0.008266015248669439}. Best is trial 13 with value: 0.6962860176785363.\n",
      "[I 2025-01-28 14:15:56,454] Trial 14 finished with value: 0.6978131275494981 and parameters: {'algo': 'KNNBaseline', 'name': 'pearson_baseline', 'user_based': False}. Best is trial 13 with value: 0.6962860176785363.\n"
     ]
    },
    {
     "name": "stdout",
     "output_type": "stream",
     "text": [
      "Estimating biases using als...\n",
      "Computing the pearson_baseline similarity matrix...\n",
      "Done computing similarity matrix.\n",
      "Estimating biases using als...\n",
      "Computing the pearson_baseline similarity matrix...\n",
      "Done computing similarity matrix.\n",
      "Estimating biases using als...\n",
      "Computing the pearson_baseline similarity matrix...\n",
      "Done computing similarity matrix.\n",
      "Estimating biases using als...\n",
      "Computing the pearson_baseline similarity matrix...\n",
      "Done computing similarity matrix.\n"
     ]
    },
    {
     "name": "stderr",
     "output_type": "stream",
     "text": [
      "[I 2025-01-28 14:15:56,644] Trial 15 finished with value: 0.6980381800053529 and parameters: {'algo': 'KNNBaseline', 'name': 'pearson_baseline', 'user_based': False}. Best is trial 13 with value: 0.6962860176785363.\n"
     ]
    },
    {
     "name": "stdout",
     "output_type": "stream",
     "text": [
      "Estimating biases using als...\n",
      "Computing the pearson_baseline similarity matrix...\n",
      "Done computing similarity matrix.\n",
      "Estimating biases using als...\n",
      "Computing the pearson_baseline similarity matrix...\n",
      "Done computing similarity matrix.\n",
      "Estimating biases using als...\n",
      "Computing the pearson_baseline similarity matrix...\n",
      "Done computing similarity matrix.\n",
      "Estimating biases using als...\n",
      "Computing the pearson_baseline similarity matrix...\n",
      "Done computing similarity matrix.\n"
     ]
    },
    {
     "name": "stderr",
     "output_type": "stream",
     "text": [
      "C:\\Users\\JAWAHAR JOVAH\\AppData\\Local\\Temp\\ipykernel_13908\\1431702651.py:11: FutureWarning: suggest_loguniform has been deprecated in v3.0.0. This feature will be removed in v6.0.0. See https://github.com/optuna/optuna/releases/tag/v3.0.0. Use suggest_float(..., log=True) instead.\n",
      "  reg_all=trial.suggest_loguniform('reg_all', 1e-4, 1e-2))\n",
      "[I 2025-01-28 14:15:57,797] Trial 16 finished with value: 0.7005621060721743 and parameters: {'algo': 'SVDpp', 'n_factors': 17, 'reg_all': 0.0003990772519962739}. Best is trial 13 with value: 0.6962860176785363.\n",
      "C:\\Users\\JAWAHAR JOVAH\\AppData\\Local\\Temp\\ipykernel_13908\\1431702651.py:14: FutureWarning: suggest_loguniform has been deprecated in v3.0.0. This feature will be removed in v6.0.0. See https://github.com/optuna/optuna/releases/tag/v3.0.0. Use suggest_float(..., log=True) instead.\n",
      "  reg_pu=trial.suggest_loguniform('reg_pu', 1e-4, 1e-2),\n",
      "C:\\Users\\JAWAHAR JOVAH\\AppData\\Local\\Temp\\ipykernel_13908\\1431702651.py:15: FutureWarning: suggest_loguniform has been deprecated in v3.0.0. This feature will be removed in v6.0.0. See https://github.com/optuna/optuna/releases/tag/v3.0.0. Use suggest_float(..., log=True) instead.\n",
      "  reg_qi=trial.suggest_loguniform('reg_qi', 1e-4, 1e-2))\n",
      "[I 2025-01-28 14:16:02,506] Trial 17 finished with value: 0.7049379881730854 and parameters: {'algo': 'NMF', 'n_factors': 41, 'reg_pu': 0.0004593113451168145, 'reg_qi': 0.00020682104459052836}. Best is trial 13 with value: 0.6962860176785363.\n"
     ]
    },
    {
     "name": "stdout",
     "output_type": "stream",
     "text": [
      "Estimating biases using als...\n",
      "Computing the pearson_baseline similarity matrix...\n",
      "Done computing similarity matrix.\n"
     ]
    },
    {
     "name": "stderr",
     "output_type": "stream",
     "text": [
      "[I 2025-01-28 14:16:04,470] Trial 18 finished with value: 0.6972771988466082 and parameters: {'algo': 'KNNBaseline', 'name': 'pearson_baseline', 'user_based': False}. Best is trial 13 with value: 0.6962860176785363.\n"
     ]
    },
    {
     "name": "stdout",
     "output_type": "stream",
     "text": [
      "Estimating biases using als...\n",
      "Computing the pearson_baseline similarity matrix...\n",
      "Done computing similarity matrix.\n",
      "Estimating biases using als...\n",
      "Computing the pearson_baseline similarity matrix...\n",
      "Done computing similarity matrix.\n",
      "Estimating biases using als...\n",
      "Computing the pearson_baseline similarity matrix...\n",
      "Done computing similarity matrix.\n",
      "Estimating biases using als...\n",
      "Computing the cosine similarity matrix...\n",
      "Done computing similarity matrix.\n",
      "Estimating biases using als...\n",
      "Computing the cosine similarity matrix...\n",
      "Done computing similarity matrix.\n",
      "Estimating biases using als...\n",
      "Computing the cosine similarity matrix...\n"
     ]
    },
    {
     "name": "stderr",
     "output_type": "stream",
     "text": [
      "[I 2025-01-28 14:16:04,608] Trial 19 finished with value: 0.6964128861851565 and parameters: {'algo': 'KNNBaseline', 'name': 'cosine', 'user_based': False}. Best is trial 13 with value: 0.6962860176785363.\n"
     ]
    },
    {
     "name": "stdout",
     "output_type": "stream",
     "text": [
      "Done computing similarity matrix.\n",
      "Estimating biases using als...\n",
      "Computing the cosine similarity matrix...\n",
      "Done computing similarity matrix.\n"
     ]
    },
    {
     "name": "stderr",
     "output_type": "stream",
     "text": [
      "[I 2025-01-28 14:16:07,349] Trial 20 finished with value: 0.7043225756022466 and parameters: {'algo': 'CoClustering', 'n_cltr_u': 10, 'n_cltr_i': 10}. Best is trial 13 with value: 0.6962860176785363.\n",
      "[I 2025-01-28 14:16:07,507] Trial 21 finished with value: 0.6977741738996192 and parameters: {'algo': 'KNNBaseline', 'name': 'cosine', 'user_based': False}. Best is trial 13 with value: 0.6962860176785363.\n"
     ]
    },
    {
     "name": "stdout",
     "output_type": "stream",
     "text": [
      "Estimating biases using als...\n",
      "Computing the cosine similarity matrix...\n",
      "Done computing similarity matrix.\n",
      "Estimating biases using als...\n",
      "Computing the cosine similarity matrix...\n",
      "Done computing similarity matrix.\n",
      "Estimating biases using als...\n",
      "Computing the cosine similarity matrix...\n",
      "Done computing similarity matrix.\n",
      "Estimating biases using als...\n",
      "Computing the cosine similarity matrix...\n",
      "Done computing similarity matrix.\n",
      "Estimating biases using als...\n",
      "Computing the cosine similarity matrix...\n",
      "Done computing similarity matrix.\n",
      "Estimating biases using als...\n",
      "Computing the cosine similarity matrix...\n",
      "Done computing similarity matrix.\n",
      "Estimating biases using als...\n"
     ]
    },
    {
     "name": "stderr",
     "output_type": "stream",
     "text": [
      "[I 2025-01-28 14:16:07,670] Trial 22 finished with value: 0.6962051487245362 and parameters: {'algo': 'KNNBaseline', 'name': 'cosine', 'user_based': False}. Best is trial 22 with value: 0.6962051487245362.\n"
     ]
    },
    {
     "name": "stdout",
     "output_type": "stream",
     "text": [
      "Computing the cosine similarity matrix...\n",
      "Done computing similarity matrix.\n",
      "Estimating biases using als...\n",
      "Computing the cosine similarity matrix...\n",
      "Done computing similarity matrix.\n",
      "Estimating biases using als...\n",
      "Computing the cosine similarity matrix...\n",
      "Done computing similarity matrix.\n",
      "Estimating biases using als...\n",
      "Computing the cosine similarity matrix...\n",
      "Done computing similarity matrix.\n",
      "Estimating biases using als...\n",
      "Computing the cosine similarity matrix...\n",
      "Done computing similarity matrix.\n",
      "Estimating biases using als...\n",
      "Computing the cosine similarity matrix...\n",
      "Done computing similarity matrix.\n"
     ]
    },
    {
     "name": "stderr",
     "output_type": "stream",
     "text": [
      "[I 2025-01-28 14:16:07,832] Trial 23 finished with value: 0.6975504405518311 and parameters: {'algo': 'KNNBaseline', 'name': 'cosine', 'user_based': False}. Best is trial 22 with value: 0.6962051487245362.\n",
      "[I 2025-01-28 14:16:08,503] Trial 24 finished with value: 0.702298462329602 and parameters: {'algo': 'SVDpp', 'n_factors': 179, 'reg_all': 0.0014145447305057644}. Best is trial 22 with value: 0.6962051487245362.\n",
      "[I 2025-01-28 14:16:13,715] Trial 25 finished with value: 0.7041815761637658 and parameters: {'algo': 'NMF', 'n_factors': 66, 'reg_pu': 0.009234196701828677, 'reg_qi': 0.00871621139740485}. Best is trial 22 with value: 0.6962051487245362.\n",
      "[I 2025-01-28 14:16:13,804] Trial 26 finished with value: 0.7041617444944216 and parameters: {'algo': 'KNNWithMeans', 'name': 'cosine', 'user_based': False}. Best is trial 22 with value: 0.6962051487245362.\n"
     ]
    },
    {
     "name": "stdout",
     "output_type": "stream",
     "text": [
      "Computing the cosine similarity matrix...\n",
      "Done computing similarity matrix.\n",
      "Computing the cosine similarity matrix...\n",
      "Done computing similarity matrix.\n",
      "Computing the cosine similarity matrix...\n",
      "Done computing similarity matrix.\n",
      "Computing the cosine similarity matrix...\n",
      "Done computing similarity matrix.\n",
      "Estimating biases using als...\n",
      "Computing the cosine similarity matrix...\n",
      "Done computing similarity matrix.\n",
      "Estimating biases using als...\n",
      "Computing the cosine similarity matrix...\n",
      "Done computing similarity matrix.\n",
      "Estimating biases using als...\n",
      "Computing the cosine similarity matrix...\n",
      "Done computing similarity matrix.\n",
      "Estimating biases using als...\n"
     ]
    },
    {
     "name": "stderr",
     "output_type": "stream",
     "text": [
      "[I 2025-01-28 14:16:13,975] Trial 27 finished with value: 0.6975178688620319 and parameters: {'algo': 'KNNBaseline', 'name': 'cosine', 'user_based': False}. Best is trial 22 with value: 0.6962051487245362.\n"
     ]
    },
    {
     "name": "stdout",
     "output_type": "stream",
     "text": [
      "Computing the cosine similarity matrix...\n",
      "Done computing similarity matrix.\n",
      "Estimating biases using als...\n",
      "Computing the cosine similarity matrix...\n",
      "Done computing similarity matrix.\n",
      "Estimating biases using als...\n",
      "Computing the cosine similarity matrix...\n",
      "Done computing similarity matrix.\n",
      "Estimating biases using als...\n",
      "Computing the cosine similarity matrix...\n",
      "Done computing similarity matrix.\n",
      "Estimating biases using als...\n",
      "Computing the cosine similarity matrix...\n",
      "Done computing similarity matrix.\n"
     ]
    },
    {
     "name": "stderr",
     "output_type": "stream",
     "text": [
      "[I 2025-01-28 14:16:14,377] Trial 28 finished with value: 0.6975240973635953 and parameters: {'algo': 'KNNBaseline', 'name': 'cosine', 'user_based': False}. Best is trial 22 with value: 0.6962051487245362.\n",
      "[I 2025-01-28 14:16:15,461] Trial 29 finished with value: 0.6983005289726044 and parameters: {'algo': 'SVD', 'n_factors': 74, 'reg_all': 0.0016351362927357247}. Best is trial 22 with value: 0.6962051487245362.\n",
      "[I 2025-01-28 14:16:16,373] Trial 30 finished with value: 0.698703958424164 and parameters: {'algo': 'SVD', 'n_factors': 168, 'reg_all': 0.00010364124816577946}. Best is trial 22 with value: 0.6962051487245362.\n"
     ]
    },
    {
     "name": "stdout",
     "output_type": "stream",
     "text": [
      "Estimating biases using als...\n",
      "Computing the pearson_baseline similarity matrix...\n",
      "Done computing similarity matrix.\n",
      "Estimating biases using als...\n",
      "Computing the pearson_baseline similarity matrix...\n",
      "Done computing similarity matrix.\n",
      "Estimating biases using als...\n",
      "Computing the pearson_baseline similarity matrix...\n",
      "Done computing similarity matrix.\n",
      "Estimating biases using als...\n",
      "Computing the pearson_baseline similarity matrix...\n",
      "Done computing similarity matrix.\n"
     ]
    },
    {
     "name": "stderr",
     "output_type": "stream",
     "text": [
      "[I 2025-01-28 14:16:16,607] Trial 31 finished with value: 0.6970871821954785 and parameters: {'algo': 'KNNBaseline', 'name': 'pearson_baseline', 'user_based': False}. Best is trial 22 with value: 0.6962051487245362.\n"
     ]
    },
    {
     "name": "stdout",
     "output_type": "stream",
     "text": [
      "Estimating biases using als...\n",
      "Computing the cosine similarity matrix...\n",
      "Done computing similarity matrix.\n",
      "Estimating biases using als...\n",
      "Computing the cosine similarity matrix...\n",
      "Done computing similarity matrix.\n",
      "Estimating biases using als...\n",
      "Computing the cosine similarity matrix...\n",
      "Done computing similarity matrix.\n",
      "Estimating biases using als...\n",
      "Computing the cosine similarity matrix...\n",
      "Done computing similarity matrix.\n"
     ]
    },
    {
     "name": "stderr",
     "output_type": "stream",
     "text": [
      "[I 2025-01-28 14:16:16,855] Trial 32 finished with value: 0.6973081270966874 and parameters: {'algo': 'KNNBaseline', 'name': 'cosine', 'user_based': False}. Best is trial 22 with value: 0.6962051487245362.\n",
      "[I 2025-01-28 14:16:17,075] Trial 33 finished with value: 0.6996362418024237 and parameters: {'algo': 'KNNBaseline', 'name': 'pearson_baseline', 'user_based': False}. Best is trial 22 with value: 0.6962051487245362.\n"
     ]
    },
    {
     "name": "stdout",
     "output_type": "stream",
     "text": [
      "Estimating biases using als...\n",
      "Computing the pearson_baseline similarity matrix...\n",
      "Done computing similarity matrix.\n",
      "Estimating biases using als...\n",
      "Computing the pearson_baseline similarity matrix...\n",
      "Done computing similarity matrix.\n",
      "Estimating biases using als...\n",
      "Computing the pearson_baseline similarity matrix...\n",
      "Done computing similarity matrix.\n",
      "Estimating biases using als...\n",
      "Computing the pearson_baseline similarity matrix...\n",
      "Done computing similarity matrix.\n"
     ]
    },
    {
     "name": "stderr",
     "output_type": "stream",
     "text": [
      "[I 2025-01-28 14:16:17,322] Trial 34 finished with value: 0.6977875437717823 and parameters: {'algo': 'KNNBaseline', 'name': 'cosine', 'user_based': False}. Best is trial 22 with value: 0.6962051487245362.\n"
     ]
    },
    {
     "name": "stdout",
     "output_type": "stream",
     "text": [
      "Estimating biases using als...\n",
      "Computing the cosine similarity matrix...\n",
      "Done computing similarity matrix.\n",
      "Estimating biases using als...\n",
      "Computing the cosine similarity matrix...\n",
      "Done computing similarity matrix.\n",
      "Estimating biases using als...\n",
      "Computing the cosine similarity matrix...\n",
      "Done computing similarity matrix.\n",
      "Estimating biases using als...\n",
      "Computing the cosine similarity matrix...\n",
      "Done computing similarity matrix.\n"
     ]
    },
    {
     "name": "stderr",
     "output_type": "stream",
     "text": [
      "[I 2025-01-28 14:16:21,358] Trial 35 finished with value: 0.704304366935944 and parameters: {'algo': 'CoClustering', 'n_cltr_u': 5, 'n_cltr_i': 8}. Best is trial 22 with value: 0.6962051487245362.\n",
      "[I 2025-01-28 14:16:21,580] Trial 36 finished with value: 0.6975948579152025 and parameters: {'algo': 'KNNBaseline', 'name': 'pearson_baseline', 'user_based': False}. Best is trial 22 with value: 0.6962051487245362.\n"
     ]
    },
    {
     "name": "stdout",
     "output_type": "stream",
     "text": [
      "Estimating biases using als...\n",
      "Computing the pearson_baseline similarity matrix...\n",
      "Done computing similarity matrix.\n",
      "Estimating biases using als...\n",
      "Computing the pearson_baseline similarity matrix...\n",
      "Done computing similarity matrix.\n",
      "Estimating biases using als...\n",
      "Computing the pearson_baseline similarity matrix...\n",
      "Done computing similarity matrix.\n",
      "Estimating biases using als...\n",
      "Computing the pearson_baseline similarity matrix...\n",
      "Done computing similarity matrix.\n"
     ]
    },
    {
     "name": "stderr",
     "output_type": "stream",
     "text": [
      "[I 2025-01-28 14:16:29,284] Trial 37 finished with value: 0.7041248869698989 and parameters: {'algo': 'NMF', 'n_factors': 82, 'reg_pu': 0.0001550717861860436, 'reg_qi': 0.0034485907476434984}. Best is trial 22 with value: 0.6962051487245362.\n",
      "[I 2025-01-28 14:16:29,375] Trial 38 finished with value: 0.7042105324047387 and parameters: {'algo': 'KNNWithZScore', 'name': 'cosine', 'user_based': False}. Best is trial 22 with value: 0.6962051487245362.\n",
      "[I 2025-01-28 14:16:29,447] Trial 39 finished with value: 0.7042433066259611 and parameters: {'algo': 'KNNWithMeans', 'name': 'cosine', 'user_based': False}. Best is trial 22 with value: 0.6962051487245362.\n"
     ]
    },
    {
     "name": "stdout",
     "output_type": "stream",
     "text": [
      "Computing the cosine similarity matrix...\n",
      "Done computing similarity matrix.\n",
      "Computing the cosine similarity matrix...\n",
      "Done computing similarity matrix.\n",
      "Computing the cosine similarity matrix...\n",
      "Done computing similarity matrix.\n",
      "Computing the cosine similarity matrix...\n",
      "Done computing similarity matrix.\n",
      "Computing the cosine similarity matrix...\n",
      "Done computing similarity matrix.\n",
      "Computing the cosine similarity matrix...\n",
      "Done computing similarity matrix.\n",
      "Computing the cosine similarity matrix...\n",
      "Done computing similarity matrix.\n",
      "Computing the cosine similarity matrix...\n",
      "Done computing similarity matrix.\n"
     ]
    },
    {
     "name": "stderr",
     "output_type": "stream",
     "text": [
      "[I 2025-01-28 14:16:29,681] Trial 40 finished with value: 0.7047508564918816 and parameters: {'algo': 'SlopeOne'}. Best is trial 22 with value: 0.6962051487245362.\n",
      "[I 2025-01-28 14:16:29,796] Trial 41 finished with value: 0.6971972166615323 and parameters: {'algo': 'KNNBaseline', 'name': 'pearson_baseline', 'user_based': False}. Best is trial 22 with value: 0.6962051487245362.\n"
     ]
    },
    {
     "name": "stdout",
     "output_type": "stream",
     "text": [
      "Estimating biases using als...\n",
      "Computing the pearson_baseline similarity matrix...\n",
      "Done computing similarity matrix.\n",
      "Estimating biases using als...\n",
      "Computing the pearson_baseline similarity matrix...\n",
      "Done computing similarity matrix.\n",
      "Estimating biases using als...\n",
      "Computing the pearson_baseline similarity matrix...\n",
      "Done computing similarity matrix.\n",
      "Estimating biases using als...\n",
      "Computing the pearson_baseline similarity matrix...\n",
      "Done computing similarity matrix.\n",
      "Estimating biases using als...\n",
      "Computing the pearson_baseline similarity matrix...\n",
      "Done computing similarity matrix.\n",
      "Estimating biases using als...\n",
      "Computing the pearson_baseline similarity matrix...\n",
      "Done computing similarity matrix.\n",
      "Estimating biases using als...\n",
      "Computing the pearson_baseline similarity matrix...\n",
      "Done computing similarity matrix.\n"
     ]
    },
    {
     "name": "stderr",
     "output_type": "stream",
     "text": [
      "[I 2025-01-28 14:16:30,495] Trial 42 finished with value: 0.6983586254753531 and parameters: {'algo': 'KNNBaseline', 'name': 'pearson_baseline', 'user_based': False}. Best is trial 22 with value: 0.6962051487245362.\n"
     ]
    },
    {
     "name": "stdout",
     "output_type": "stream",
     "text": [
      "Estimating biases using als...\n",
      "Computing the pearson_baseline similarity matrix...\n",
      "Done computing similarity matrix.\n",
      "Estimating biases using als...\n",
      "Computing the pearson_baseline similarity matrix...\n",
      "Done computing similarity matrix.\n",
      "Estimating biases using als...\n",
      "Computing the pearson_baseline similarity matrix...\n",
      "Done computing similarity matrix.\n",
      "Estimating biases using als...\n",
      "Computing the pearson_baseline similarity matrix...\n"
     ]
    },
    {
     "name": "stderr",
     "output_type": "stream",
     "text": [
      "[I 2025-01-28 14:16:30,783] Trial 43 finished with value: 0.6982288609592592 and parameters: {'algo': 'KNNBaseline', 'name': 'pearson_baseline', 'user_based': False}. Best is trial 22 with value: 0.6962051487245362.\n"
     ]
    },
    {
     "name": "stdout",
     "output_type": "stream",
     "text": [
      "Done computing similarity matrix.\n",
      "Estimating biases using als...\n",
      "Computing the pearson_baseline similarity matrix...\n",
      "Done computing similarity matrix.\n"
     ]
    },
    {
     "name": "stderr",
     "output_type": "stream",
     "text": [
      "[I 2025-01-28 14:16:31,333] Trial 44 finished with value: 0.6977015025928154 and parameters: {'algo': 'SVD', 'n_factors': 12, 'reg_all': 0.0029236245543933686}. Best is trial 22 with value: 0.6962051487245362.\n",
      "[I 2025-01-28 14:16:32,213] Trial 45 finished with value: 0.7022400342868264 and parameters: {'algo': 'SVDpp', 'n_factors': 156, 'reg_all': 0.0003923843759490001}. Best is trial 22 with value: 0.6962051487245362.\n",
      "[I 2025-01-28 14:16:32,332] Trial 46 finished with value: 0.698325770687623 and parameters: {'algo': 'KNNBaseline', 'name': 'pearson_baseline', 'user_based': False}. Best is trial 22 with value: 0.6962051487245362.\n",
      "[I 2025-01-28 14:16:32,464] Trial 47 finished with value: 0.7040306441675211 and parameters: {'algo': 'KNNWithZScore', 'name': 'pearson_baseline', 'user_based': False}. Best is trial 22 with value: 0.6962051487245362.\n"
     ]
    },
    {
     "name": "stdout",
     "output_type": "stream",
     "text": [
      "Estimating biases using als...\n",
      "Computing the pearson_baseline similarity matrix...\n",
      "Done computing similarity matrix.\n",
      "Estimating biases using als...\n",
      "Computing the pearson_baseline similarity matrix...\n",
      "Done computing similarity matrix.\n",
      "Estimating biases using als...\n",
      "Computing the pearson_baseline similarity matrix...\n",
      "Done computing similarity matrix.\n",
      "Estimating biases using als...\n",
      "Computing the pearson_baseline similarity matrix...\n",
      "Done computing similarity matrix.\n",
      "Estimating biases using als...\n",
      "Computing the pearson_baseline similarity matrix...\n",
      "Done computing similarity matrix.\n",
      "Estimating biases using als...\n",
      "Computing the pearson_baseline similarity matrix...\n",
      "Done computing similarity matrix.\n",
      "Estimating biases using als...\n",
      "Computing the pearson_baseline similarity matrix...\n",
      "Done computing similarity matrix.\n",
      "Estimating biases using als...\n",
      "Computing the pearson_baseline similarity matrix...\n",
      "Done computing similarity matrix.\n"
     ]
    },
    {
     "name": "stderr",
     "output_type": "stream",
     "text": [
      "[I 2025-01-28 14:16:32,696] Trial 48 finished with value: 0.7043022381669951 and parameters: {'algo': 'SlopeOne'}. Best is trial 22 with value: 0.6962051487245362.\n",
      "[I 2025-01-28 14:16:33,150] Trial 49 finished with value: 0.6977087255999832 and parameters: {'algo': 'SVD', 'n_factors': 199, 'reg_all': 0.003006013718574953}. Best is trial 22 with value: 0.6962051487245362.\n"
     ]
    },
    {
     "name": "stdout",
     "output_type": "stream",
     "text": [
      "Best trial: {'algo': 'KNNBaseline', 'name': 'cosine', 'user_based': False} with RMSE: 0.6962051487245362\n"
     ]
    }
   ],
   "source": [
    "# finding the best features\n",
    "import optuna\n",
    "def objective(trial):\n",
    "    algo_name = trial.suggest_categorical('algo', ['SVD', 'SVDpp', 'NMF', 'SlopeOne', 'KNNBaseline', 'KNNWithMeans', 'KNNWithZScore', 'CoClustering'])\n",
    "    \n",
    "    if algo_name == 'SVD':\n",
    "        algo = SVD(n_factors=trial.suggest_int('n_factors', 10, 200), \n",
    "                   reg_all=trial.suggest_loguniform('reg_all', 1e-4, 1e-2))\n",
    "    elif algo_name == 'SVDpp':\n",
    "        algo = SVDpp(n_factors=trial.suggest_int('n_factors', 10, 200), \n",
    "                     reg_all=trial.suggest_loguniform('reg_all', 1e-4, 1e-2))\n",
    "    elif algo_name == 'NMF':\n",
    "        algo = NMF(n_factors=trial.suggest_int('n_factors', 10, 200), \n",
    "                   reg_pu=trial.suggest_loguniform('reg_pu', 1e-4, 1e-2), \n",
    "                   reg_qi=trial.suggest_loguniform('reg_qi', 1e-4, 1e-2))\n",
    "    elif algo_name.startswith('KNN'):\n",
    "        sim_options = {\n",
    "            'name': trial.suggest_categorical('name', ['cosine', 'msd', 'pearson_baseline']),\n",
    "            'user_based': trial.suggest_categorical('user_based', [True, False])\n",
    "        }\n",
    "        if algo_name == 'KNNBaseline':\n",
    "            algo = KNNBaseline(sim_options=sim_options)\n",
    "        elif algo_name == 'KNNWithMeans':\n",
    "            algo = KNNWithMeans(sim_options=sim_options)\n",
    "        elif algo_name == 'KNNWithZScore':\n",
    "            algo = KNNWithZScore(sim_options=sim_options)\n",
    "    elif algo_name == 'CoClustering':\n",
    "        algo = CoClustering(n_cltr_u=trial.suggest_int('n_cltr_u', 1, 10),\n",
    "                            n_cltr_i=trial.suggest_int('n_cltr_i', 1, 10))\n",
    "    else:\n",
    "        algo = SlopeOne()\n",
    "    \n",
    "    algo.fit(train_data)\n",
    "    predictions = algo.test(test_data)\n",
    "    accuracy = cross_validate(algo, data, measures=['RMSE'], cv=3, verbose=False)['test_rmse'].mean()\n",
    "    \n",
    "    return accuracy\n",
    "\n",
    "study = optuna.create_study(direction='minimize')\n",
    "study.optimize(objective, n_trials=50)\n",
    "\n",
    "# Best trial: {'algo': 'KNNBaseline', 'name': 'cosine', 'user_based': False} with RMSE: 0.6962051487245362\n",
    "print(f'Best trial: {study.best_trial.params} with RMSE: {study.best_trial.value}')\n"
   ]
  },
  {
   "cell_type": "code",
   "execution_count": null,
   "id": "ada7df41-685c-4143-b473-bf75babc84d3",
   "metadata": {},
   "outputs": [],
   "source": []
  }
 ],
 "metadata": {
  "kernelspec": {
   "display_name": "Python 3 (ipykernel)",
   "language": "python",
   "name": "python3"
  },
  "language_info": {
   "codemirror_mode": {
    "name": "ipython",
    "version": 3
   },
   "file_extension": ".py",
   "mimetype": "text/x-python",
   "name": "python",
   "nbconvert_exporter": "python",
   "pygments_lexer": "ipython3",
   "version": "3.11.9"
  },
  "widgets": {
   "application/vnd.jupyter.widget-state+json": {
    "state": {},
    "version_major": 2,
    "version_minor": 0
   }
  }
 },
 "nbformat": 4,
 "nbformat_minor": 5
}
